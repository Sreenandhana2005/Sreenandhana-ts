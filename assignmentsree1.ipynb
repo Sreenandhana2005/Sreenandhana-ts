{
  "nbformat": 4,
  "nbformat_minor": 0,
  "metadata": {
    "colab": {
      "provenance": []
    },
    "kernelspec": {
      "name": "python3",
      "display_name": "Python 3"
    },
    "language_info": {
      "name": "python"
    }
  },
  "cells": [
    {
      "cell_type": "code",
      "source": [
        "# input function\n",
        "a =int(input('Enter first number:'))\n",
        "b =int(input(\"Enter second number:\"))\n",
        "s =a*b\n",
        "print(s)"
      ],
      "metadata": {
        "colab": {
          "base_uri": "https://localhost:8080/"
        },
        "id": "HppygelFlJGX",
        "outputId": "0bc27954-6c60-450f-af2e-9f236651c783"
      },
      "execution_count": null,
      "outputs": [
        {
          "output_type": "stream",
          "name": "stdout",
          "text": [
            "Enter first number:3\n",
            "Enter second number:8\n",
            "24\n"
          ]
        }
      ]
    },
    {
      "cell_type": "markdown",
      "source": [
        "2)"
      ],
      "metadata": {
        "id": "mhtjPCfDxfT4"
      }
    },
    {
      "cell_type": "code",
      "source": [
        "#input function\n",
        "a=int(input(\"enter first number:\"))\n",
        "b=int(input(\"enter second number:\"))\n",
        "q=a/b\n",
        "r=a%b\n",
        "print(q)\n",
        "print(r)"
      ],
      "metadata": {
        "id": "QtY9iTZvx9-x",
        "outputId": "084774f2-def2-404c-881a-c2b5ec7363e9",
        "colab": {
          "base_uri": "https://localhost:8080/"
        }
      },
      "execution_count": null,
      "outputs": [
        {
          "output_type": "stream",
          "name": "stdout",
          "text": [
            "enter first number:25\n",
            "enter second number:32\n",
            "0.78125\n",
            "25\n"
          ]
        }
      ]
    },
    {
      "cell_type": "markdown",
      "source": [
        "3)"
      ],
      "metadata": {
        "id": "KjRAwrlkyJxA"
      }
    },
    {
      "cell_type": "code",
      "source": [
        "\n",
        "\n",
        "# input function\n",
        "a = int(input(\"enter first number:\"))\n",
        "b = int(input(\"enter second number:\"))\n",
        "s = a+b\n",
        "print(s)"
      ],
      "metadata": {
        "id": "KxiSO1TVxm1U"
      },
      "execution_count": null,
      "outputs": []
    },
    {
      "cell_type": "markdown",
      "source": [
        "4)"
      ],
      "metadata": {
        "id": "fJvoUjOdyX2b"
      }
    },
    {
      "cell_type": "code",
      "source": [
        "a = \"Hello, World!\"\n",
        "print(len(a))"
      ],
      "metadata": {
        "id": "sSFx20Ga8hT7",
        "colab": {
          "base_uri": "https://localhost:8080/"
        },
        "outputId": "3511192d-0e49-48af-bc0c-69f709dcf89d"
      },
      "execution_count": null,
      "outputs": [
        {
          "output_type": "stream",
          "name": "stdout",
          "text": [
            "13\n"
          ]
        }
      ]
    },
    {
      "cell_type": "code",
      "source": [
        "print(a[4:9])"
      ],
      "metadata": {
        "colab": {
          "base_uri": "https://localhost:8080/"
        },
        "id": "6H-LGJPNAQJE",
        "outputId": "8f39f401-6d7f-4814-821d-297f7ee2f296"
      },
      "execution_count": null,
      "outputs": [
        {
          "output_type": "stream",
          "name": "stdout",
          "text": [
            "o, Wo\n"
          ]
        }
      ]
    },
    {
      "cell_type": "code",
      "source": [
        "print(a[-6:-4])"
      ],
      "metadata": {
        "colab": {
          "base_uri": "https://localhost:8080/"
        },
        "id": "5NkN8rDxAp4O",
        "outputId": "1767856c-2e00-4215-a572-93d607baba95"
      },
      "execution_count": null,
      "outputs": [
        {
          "output_type": "stream",
          "name": "stdout",
          "text": [
            "Wo\n"
          ]
        }
      ]
    },
    {
      "cell_type": "code",
      "source": [
        "s1 = \"Hello, World!\""
      ],
      "metadata": {
        "id": "zGsYYETXB-v8"
      },
      "execution_count": null,
      "outputs": []
    },
    {
      "cell_type": "code",
      "source": [
        "s1.upper()"
      ],
      "metadata": {
        "colab": {
          "base_uri": "https://localhost:8080/",
          "height": 35
        },
        "id": "ySoxIC1oCzy4",
        "outputId": "c9631f16-e74e-4878-ed2e-0a479af83924"
      },
      "execution_count": null,
      "outputs": [
        {
          "output_type": "execute_result",
          "data": {
            "text/plain": [
              "'HELLO, WORLD!'"
            ],
            "application/vnd.google.colaboratory.intrinsic+json": {
              "type": "string"
            }
          },
          "metadata": {},
          "execution_count": 12
        }
      ]
    },
    {
      "cell_type": "code",
      "source": [
        "s1.lower()"
      ],
      "metadata": {
        "id": "OmMh3FsiC4tV",
        "outputId": "94fef3dc-4b2c-4062-e9db-4d13358c6b75",
        "colab": {
          "base_uri": "https://localhost:8080/",
          "height": 35
        }
      },
      "execution_count": null,
      "outputs": [
        {
          "output_type": "execute_result",
          "data": {
            "text/plain": [
              "'hello, world!'"
            ],
            "application/vnd.google.colaboratory.intrinsic+json": {
              "type": "string"
            }
          },
          "metadata": {},
          "execution_count": 13
        }
      ]
    }
  ]
}