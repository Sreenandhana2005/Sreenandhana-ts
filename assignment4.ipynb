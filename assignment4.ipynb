{
  "nbformat": 4,
  "nbformat_minor": 0,
  "metadata": {
    "colab": {
      "provenance": []
    },
    "kernelspec": {
      "name": "python3",
      "display_name": "Python 3"
    },
    "language_info": {
      "name": "python"
    }
  },
  "cells": [
    {
      "cell_type": "markdown",
      "source": [
        "1)Create a NumPy array of integers from 1 to 10"
      ],
      "metadata": {
        "id": "kSwZvF4PoiPP"
      }
    },
    {
      "cell_type": "code",
      "source": [
        "import numpy as np"
      ],
      "metadata": {
        "id": "T1l737mAokA3"
      },
      "execution_count": null,
      "outputs": []
    },
    {
      "cell_type": "code",
      "source": [
        "arr=np.arange(1,11)\n",
        "arr"
      ],
      "metadata": {
        "colab": {
          "base_uri": "https://localhost:8080/"
        },
        "id": "mnBJv2U_pZ3B",
        "outputId": "40323d46-1eeb-424c-efd3-41066a7f7679"
      },
      "execution_count": null,
      "outputs": [
        {
          "output_type": "execute_result",
          "data": {
            "text/plain": [
              "array([ 1,  2,  3,  4,  5,  6,  7,  8,  9, 10])"
            ]
          },
          "metadata": {},
          "execution_count": 4
        }
      ]
    },
    {
      "cell_type": "markdown",
      "source": [
        "2. Create a 2x3 NumPy array filled with zeros"
      ],
      "metadata": {
        "id": "N8niheb5p7mw"
      }
    },
    {
      "cell_type": "code",
      "source": [
        "np.zeros((2,3))"
      ],
      "metadata": {
        "colab": {
          "base_uri": "https://localhost:8080/"
        },
        "id": "bDeGpIPNpvc2",
        "outputId": "9b6992e5-e133-4cb1-c49c-14999b1c5a3d"
      },
      "execution_count": null,
      "outputs": [
        {
          "output_type": "execute_result",
          "data": {
            "text/plain": [
              "array([[0., 0., 0.],\n",
              "       [0., 0., 0.]])"
            ]
          },
          "metadata": {},
          "execution_count": 5
        }
      ]
    },
    {
      "cell_type": "markdown",
      "source": [
        "3. Create a NumPy array of even numbers from 2 to 20."
      ],
      "metadata": {
        "id": "WXGRhw2LqQfX"
      }
    },
    {
      "cell_type": "code",
      "source": [
        "arr2=np.arange(2,21,2)\n",
        "arr2"
      ],
      "metadata": {
        "colab": {
          "base_uri": "https://localhost:8080/"
        },
        "id": "w-joRhtPqN5m",
        "outputId": "f743c3d2-6c20-4c48-cf57-b68fbf277522"
      },
      "execution_count": null,
      "outputs": [
        {
          "output_type": "execute_result",
          "data": {
            "text/plain": [
              "array([ 2,  4,  6,  8, 10, 12, 14, 16, 18, 20])"
            ]
          },
          "metadata": {},
          "execution_count": 7
        }
      ]
    },
    {
      "cell_type": "markdown",
      "source": [
        "4. Given two NumPy arrays, arr1 = np.array([1, 2, 3]) and arr2 = np.array([4,\n",
        "5, 6]), perform element-wise addition, subtraction, multiplication, and\n",
        "division between the two arrays"
      ],
      "metadata": {
        "id": "hdAu8raKqxba"
      }
    },
    {
      "cell_type": "code",
      "source": [
        "arr1 = np.array([1, 2, 3])\n",
        "arr1"
      ],
      "metadata": {
        "colab": {
          "base_uri": "https://localhost:8080/"
        },
        "id": "LkPO1H7Iqhm2",
        "outputId": "685f123a-d148-4eff-a22b-51a208502641"
      },
      "execution_count": null,
      "outputs": [
        {
          "output_type": "execute_result",
          "data": {
            "text/plain": [
              "array([1, 2, 3])"
            ]
          },
          "metadata": {},
          "execution_count": 8
        }
      ]
    },
    {
      "cell_type": "code",
      "source": [
        "arr2 = np.array([4, 5, 6])\n",
        "arr2"
      ],
      "metadata": {
        "colab": {
          "base_uri": "https://localhost:8080/"
        },
        "id": "4nhBcA6gq9X2",
        "outputId": "9623bbd5-a971-4889-b4a1-29c6daff57c3"
      },
      "execution_count": null,
      "outputs": [
        {
          "output_type": "execute_result",
          "data": {
            "text/plain": [
              "array([4, 5, 6])"
            ]
          },
          "metadata": {},
          "execution_count": 9
        }
      ]
    },
    {
      "cell_type": "code",
      "source": [
        "arr3=arr1+arr2\n",
        "arr3"
      ],
      "metadata": {
        "colab": {
          "base_uri": "https://localhost:8080/"
        },
        "id": "XawQEg4OrCX3",
        "outputId": "bfe9009e-1906-4c1b-ff94-64bf1e45c06d"
      },
      "execution_count": null,
      "outputs": [
        {
          "output_type": "execute_result",
          "data": {
            "text/plain": [
              "array([5, 7, 9])"
            ]
          },
          "metadata": {},
          "execution_count": 11
        }
      ]
    },
    {
      "cell_type": "code",
      "source": [
        "arr4=arr2-arr1\n",
        "arr4"
      ],
      "metadata": {
        "colab": {
          "base_uri": "https://localhost:8080/"
        },
        "id": "WJy_NCwirNaG",
        "outputId": "e29c1faf-09f1-43cd-ce58-a9df794cebf9"
      },
      "execution_count": null,
      "outputs": [
        {
          "output_type": "execute_result",
          "data": {
            "text/plain": [
              "array([3, 3, 3])"
            ]
          },
          "metadata": {},
          "execution_count": 12
        }
      ]
    },
    {
      "cell_type": "code",
      "source": [
        "arr5=arr2*arr1\n",
        "arr5"
      ],
      "metadata": {
        "colab": {
          "base_uri": "https://localhost:8080/"
        },
        "id": "-i7hrHc0rSrm",
        "outputId": "837a776e-7db9-4c0d-8eed-d7a265e472db"
      },
      "execution_count": null,
      "outputs": [
        {
          "output_type": "execute_result",
          "data": {
            "text/plain": [
              "array([ 4, 10, 18])"
            ]
          },
          "metadata": {},
          "execution_count": 13
        }
      ]
    },
    {
      "cell_type": "code",
      "source": [
        "arr6=arr2/arr1\n",
        "arr6"
      ],
      "metadata": {
        "colab": {
          "base_uri": "https://localhost:8080/"
        },
        "id": "PsEoTxuNrYJm",
        "outputId": "f67b28ef-659d-47c6-cce7-04a0dfa71793"
      },
      "execution_count": null,
      "outputs": [
        {
          "output_type": "execute_result",
          "data": {
            "text/plain": [
              "array([4. , 2.5, 2. ])"
            ]
          },
          "metadata": {},
          "execution_count": 14
        }
      ]
    },
    {
      "cell_type": "markdown",
      "source": [
        "5. Compute the mean, median, and standard deviation of a NumPy array\n",
        "containing 100 random numbers.\n"
      ],
      "metadata": {
        "id": "tgaciBr_rh0g"
      }
    },
    {
      "cell_type": "code",
      "source": [
        "np.random.randint(0,100,100)"
      ],
      "metadata": {
        "colab": {
          "base_uri": "https://localhost:8080/"
        },
        "id": "jQe5eyC7reAI",
        "outputId": "2654fc89-111e-4636-9d67-46e9e284f9b2"
      },
      "execution_count": null,
      "outputs": [
        {
          "output_type": "execute_result",
          "data": {
            "text/plain": [
              "array([45, 93, 22, 82, 45, 97, 63,  8, 89, 25, 30, 81, 98, 68, 58, 26, 92,\n",
              "       72, 97, 45, 23, 22, 17, 15, 95, 87, 82, 65, 39, 32, 35,  7, 21, 34,\n",
              "       92, 20,  6,  7, 63, 12, 70, 95, 53, 48, 22, 45,  0, 95, 97, 26, 54,\n",
              "       25, 65, 98, 81, 58, 22,  7, 27, 53, 66, 26, 32, 15,  8, 93, 33, 15,\n",
              "       32, 76, 60, 91, 63, 76, 68, 23,  9, 68, 84, 50, 91, 67, 97, 67, 24,\n",
              "       60, 44, 98, 34, 70,  7,  2, 43, 42, 64, 97,  2, 90, 36,  7])"
            ]
          },
          "metadata": {},
          "execution_count": 15
        }
      ]
    },
    {
      "cell_type": "code",
      "source": [
        "arr1=np.random.randint(0,100,100)"
      ],
      "metadata": {
        "id": "0BJex3Umrzw9"
      },
      "execution_count": null,
      "outputs": []
    },
    {
      "cell_type": "code",
      "source": [
        "arr1.mean()"
      ],
      "metadata": {
        "colab": {
          "base_uri": "https://localhost:8080/"
        },
        "id": "AW_67x9_r61I",
        "outputId": "39200b44-dbba-47e7-d0b1-82f77c3d2f1a"
      },
      "execution_count": null,
      "outputs": [
        {
          "output_type": "execute_result",
          "data": {
            "text/plain": [
              "52.06"
            ]
          },
          "metadata": {},
          "execution_count": 17
        }
      ]
    },
    {
      "cell_type": "markdown",
      "source": [
        "6. Reshape a 1D NumPy array of 12 random elements into a 2D array with a\n",
        "shape of (3, 4).\n"
      ],
      "metadata": {
        "id": "RB_HVYgnsJn9"
      }
    },
    {
      "cell_type": "code",
      "source": [
        "arr2=np.random.randint(0,20,12)\n",
        "arr2"
      ],
      "metadata": {
        "colab": {
          "base_uri": "https://localhost:8080/"
        },
        "id": "JFxsHXcNr98V",
        "outputId": "5858d12a-e1ac-4ba8-9c91-ba7241288890"
      },
      "execution_count": null,
      "outputs": [
        {
          "output_type": "execute_result",
          "data": {
            "text/plain": [
              "array([15,  9,  2,  0, 10, 10,  4,  9,  2,  0,  3,  5])"
            ]
          },
          "metadata": {},
          "execution_count": 18
        }
      ]
    },
    {
      "cell_type": "code",
      "source": [
        "arr2.reshape(3,4)"
      ],
      "metadata": {
        "colab": {
          "base_uri": "https://localhost:8080/"
        },
        "id": "3y5JVH7Nsjrm",
        "outputId": "8e0e3055-d3b0-477f-ba0c-ed22ad849458"
      },
      "execution_count": null,
      "outputs": [
        {
          "output_type": "execute_result",
          "data": {
            "text/plain": [
              "array([[15,  9,  2,  0],\n",
              "       [10, 10,  4,  9],\n",
              "       [ 2,  0,  3,  5]])"
            ]
          },
          "metadata": {},
          "execution_count": 19
        }
      ]
    },
    {
      "cell_type": "markdown",
      "source": [
        "7. Given a NumPy array arr = np.array([1, 2, 3, 4, 5]), square each element in\n",
        "the array using NumPy functions"
      ],
      "metadata": {
        "id": "asOXt5wbs-G9"
      }
    },
    {
      "cell_type": "code",
      "source": [
        " arr = np.array([1, 2, 3, 4, 5])\n",
        " arr"
      ],
      "metadata": {
        "colab": {
          "base_uri": "https://localhost:8080/"
        },
        "id": "Jtoq_oO9s9n1",
        "outputId": "ae4e22d9-d51d-40d4-f9c6-58b8540d1d39"
      },
      "execution_count": null,
      "outputs": [
        {
          "output_type": "execute_result",
          "data": {
            "text/plain": [
              "array([1, 2, 3, 4, 5])"
            ]
          },
          "metadata": {},
          "execution_count": 20
        }
      ]
    },
    {
      "cell_type": "code",
      "source": [
        "np.sqrt(arr)"
      ],
      "metadata": {
        "colab": {
          "base_uri": "https://localhost:8080/"
        },
        "id": "k8SyelAgtN1F",
        "outputId": "fba0e58a-e45f-4072-b423-e0a75163c401"
      },
      "execution_count": null,
      "outputs": [
        {
          "output_type": "execute_result",
          "data": {
            "text/plain": [
              "array([1.        , 1.41421356, 1.73205081, 2.        , 2.23606798])"
            ]
          },
          "metadata": {},
          "execution_count": 21
        }
      ]
    },
    {
      "cell_type": "markdown",
      "source": [
        "8. Create a 5x5 identity matrix using NumPy"
      ],
      "metadata": {
        "id": "Dr69WMWOsxX2"
      }
    },
    {
      "cell_type": "code",
      "source": [
        "np.eye(5,5)"
      ],
      "metadata": {
        "colab": {
          "base_uri": "https://localhost:8080/"
        },
        "id": "IY4aLgtMstpG",
        "outputId": "f387ad03-c281-4ba9-dee7-fa628756f930"
      },
      "execution_count": null,
      "outputs": [
        {
          "output_type": "execute_result",
          "data": {
            "text/plain": [
              "array([[1., 0., 0., 0., 0.],\n",
              "       [0., 1., 0., 0., 0.],\n",
              "       [0., 0., 1., 0., 0.],\n",
              "       [0., 0., 0., 1., 0.],\n",
              "       [0., 0., 0., 0., 1.]])"
            ]
          },
          "metadata": {},
          "execution_count": 22
        }
      ]
    },
    {
      "cell_type": "markdown",
      "source": [
        " 9)Calculate the dot product of two NumPy arrays, a = np.array([1, 2, 3]) and\n",
        "b = np.array([4, 5, 6])"
      ],
      "metadata": {
        "id": "kp_qE6WXtzLs"
      }
    },
    {
      "cell_type": "code",
      "source": [
        "a = np.array([1, 2, 3])\n",
        "a"
      ],
      "metadata": {
        "colab": {
          "base_uri": "https://localhost:8080/"
        },
        "id": "Aah7k9mTtp6l",
        "outputId": "a3cd12be-ef29-4051-d087-3733b8540188"
      },
      "execution_count": null,
      "outputs": [
        {
          "output_type": "execute_result",
          "data": {
            "text/plain": [
              "array([1, 2, 3])"
            ]
          },
          "metadata": {},
          "execution_count": 25
        }
      ]
    },
    {
      "cell_type": "code",
      "source": [
        "b = np.array([4, 5, 6])\n",
        "b"
      ],
      "metadata": {
        "colab": {
          "base_uri": "https://localhost:8080/"
        },
        "id": "-DVKMxIqtvy0",
        "outputId": "5724b105-cc3e-4b0f-c363-0b87de0c5f2b"
      },
      "execution_count": null,
      "outputs": [
        {
          "output_type": "execute_result",
          "data": {
            "text/plain": [
              "array([4, 5, 6])"
            ]
          },
          "metadata": {},
          "execution_count": 26
        }
      ]
    },
    {
      "cell_type": "code",
      "source": [
        "a*b"
      ],
      "metadata": {
        "colab": {
          "base_uri": "https://localhost:8080/"
        },
        "id": "3jx7jzFquESl",
        "outputId": "4c4aeeb6-ac1b-4217-86b5-df582ec49171"
      },
      "execution_count": null,
      "outputs": [
        {
          "output_type": "execute_result",
          "data": {
            "text/plain": [
              "array([ 4, 10, 18])"
            ]
          },
          "metadata": {},
          "execution_count": 27
        }
      ]
    },
    {
      "cell_type": "markdown",
      "source": [
        "10.Find the index of the maximum value and the index of the minimum value\n",
        "in a NumPy array.\n"
      ],
      "metadata": {
        "id": "pBJhJVEDuOO9"
      }
    },
    {
      "cell_type": "code",
      "source": [
        "arr1=np.arange(0,21)"
      ],
      "metadata": {
        "id": "RsnFuAh7uMZl"
      },
      "execution_count": null,
      "outputs": []
    },
    {
      "cell_type": "code",
      "source": [
        "arr1.reshape(3,7)"
      ],
      "metadata": {
        "colab": {
          "base_uri": "https://localhost:8080/"
        },
        "id": "vHpIp1NMuua2",
        "outputId": "c212152e-923b-4962-d420-cc9b636a4f96"
      },
      "execution_count": null,
      "outputs": [
        {
          "output_type": "execute_result",
          "data": {
            "text/plain": [
              "array([[ 0,  1,  2,  3,  4,  5,  6],\n",
              "       [ 7,  8,  9, 10, 11, 12, 13],\n",
              "       [14, 15, 16, 17, 18, 19, 20]])"
            ]
          },
          "metadata": {},
          "execution_count": 29
        }
      ]
    },
    {
      "cell_type": "code",
      "source": [
        "arr1.max()"
      ],
      "metadata": {
        "colab": {
          "base_uri": "https://localhost:8080/"
        },
        "id": "hV4tvY22u4MW",
        "outputId": "48e7c10e-358c-4de4-f1c1-fa0918b584a6"
      },
      "execution_count": null,
      "outputs": [
        {
          "output_type": "execute_result",
          "data": {
            "text/plain": [
              "20"
            ]
          },
          "metadata": {},
          "execution_count": 31
        }
      ]
    },
    {
      "cell_type": "code",
      "source": [
        "arr1.min()"
      ],
      "metadata": {
        "colab": {
          "base_uri": "https://localhost:8080/"
        },
        "id": "5kREMh0ovJK1",
        "outputId": "5c9b8755-a9c2-46f6-e73e-095ed1da19b7"
      },
      "execution_count": null,
      "outputs": [
        {
          "output_type": "execute_result",
          "data": {
            "text/plain": [
              "0"
            ]
          },
          "metadata": {},
          "execution_count": 32
        }
      ]
    },
    {
      "cell_type": "markdown",
      "source": [
        "11.Concatenate two random NumPy arrays horizontally and vertically"
      ],
      "metadata": {
        "id": "NJ_K977MvRfN"
      }
    },
    {
      "cell_type": "code",
      "source": [
        "a=np.zeros((3,3))"
      ],
      "metadata": {
        "id": "FZJqmnG7vQcF"
      },
      "execution_count": null,
      "outputs": []
    },
    {
      "cell_type": "code",
      "source": [
        "b=np.ones((3,3))"
      ],
      "metadata": {
        "id": "Bwjenx67vkF6"
      },
      "execution_count": null,
      "outputs": []
    },
    {
      "cell_type": "code",
      "source": [
        "np.vstack([a,b])"
      ],
      "metadata": {
        "colab": {
          "base_uri": "https://localhost:8080/"
        },
        "id": "WE5b23xivxRl",
        "outputId": "490bdcf8-18c0-4290-fa1f-e5b9f1e4f7a7"
      },
      "execution_count": null,
      "outputs": [
        {
          "output_type": "execute_result",
          "data": {
            "text/plain": [
              "array([[0., 0., 0.],\n",
              "       [0., 0., 0.],\n",
              "       [0., 0., 0.],\n",
              "       [1., 1., 1.],\n",
              "       [1., 1., 1.],\n",
              "       [1., 1., 1.]])"
            ]
          },
          "metadata": {},
          "execution_count": 37
        }
      ]
    },
    {
      "cell_type": "code",
      "source": [
        "np.hstack([a,b])"
      ],
      "metadata": {
        "colab": {
          "base_uri": "https://localhost:8080/"
        },
        "id": "kB0jT_wWv2p1",
        "outputId": "90b5410f-b629-4de3-aede-d6df0527f267"
      },
      "execution_count": null,
      "outputs": [
        {
          "output_type": "execute_result",
          "data": {
            "text/plain": [
              "array([[0., 0., 0., 1., 1., 1.],\n",
              "       [0., 0., 0., 1., 1., 1.],\n",
              "       [0., 0., 0., 1., 1., 1.]])"
            ]
          },
          "metadata": {},
          "execution_count": 38
        }
      ]
    },
    {
      "cell_type": "markdown",
      "source": [
        "12.Given a 2D NumPy array, calculate the sum of each row and each column\n",
        "separately"
      ],
      "metadata": {
        "id": "dyuQe_iyv8K9"
      }
    },
    {
      "cell_type": "code",
      "source": [
        "arr1=np.arange(1,21)"
      ],
      "metadata": {
        "id": "IUfXFmxKv6q1"
      },
      "execution_count": null,
      "outputs": []
    },
    {
      "cell_type": "code",
      "source": [
        "arr1.reshape(2,10)"
      ],
      "metadata": {
        "colab": {
          "base_uri": "https://localhost:8080/"
        },
        "id": "UHsRZsRTwX1V",
        "outputId": "58d04db1-f8d4-4306-8757-ec439209a4c8"
      },
      "execution_count": null,
      "outputs": [
        {
          "output_type": "execute_result",
          "data": {
            "text/plain": [
              "array([[ 1,  2,  3,  4,  5,  6,  7,  8,  9, 10],\n",
              "       [11, 12, 13, 14, 15, 16, 17, 18, 19, 20]])"
            ]
          },
          "metadata": {},
          "execution_count": 40
        }
      ]
    },
    {
      "cell_type": "markdown",
      "source": [
        "15)create a numpy array with random integers between 1 and 100 and then sort in ascending order?"
      ],
      "metadata": {
        "id": "vVUug8biia8S"
      }
    },
    {
      "cell_type": "code",
      "source": [
        "import numpy as np\n",
        "arr=np.random. randint(1,101,size=10)\n",
        "arr.sort()\n",
        "print(arr)"
      ],
      "metadata": {
        "colab": {
          "base_uri": "https://localhost:8080/"
        },
        "id": "6keWB_hrPxkd",
        "outputId": "d1c8adc9-765b-4935-b81e-86baacaea45d"
      },
      "execution_count": 2,
      "outputs": [
        {
          "output_type": "stream",
          "name": "stdout",
          "text": [
            "[19 21 30 34 35 49 64 79 91 95]\n"
          ]
        }
      ]
    },
    {
      "cell_type": "markdown",
      "source": [
        "16)\n",
        "Calculate the elemen-twise absolute difference between two Numpy arrays?"
      ],
      "metadata": {
        "id": "Mfw4yOXAjYvl"
      }
    },
    {
      "cell_type": "code",
      "source": [
        "import numpy as np\n",
        "arr1=np.array([8,10,19,15])\n",
        "arr2=np.array([6,8,10,12])"
      ],
      "metadata": {
        "id": "9a_DnsqJUYud"
      },
      "execution_count": 4,
      "outputs": []
    },
    {
      "cell_type": "code",
      "source": [
        "abs_diff=np.abs(arr1-arr2)\n",
        "print(abs_diff)"
      ],
      "metadata": {
        "colab": {
          "base_uri": "https://localhost:8080/"
        },
        "id": "6MfC31kvVA6V",
        "outputId": "387300dc-d78b-4444-90fe-c67f75deb133"
      },
      "execution_count": 5,
      "outputs": [
        {
          "output_type": "stream",
          "name": "stdout",
          "text": [
            "[2 2 9 3]\n"
          ]
        }
      ]
    },
    {
      "cell_type": "markdown",
      "source": [
        "17)Given a 2D NumPy array, extract the first row and the last column.\n"
      ],
      "metadata": {
        "id": "MBI-82WSU9-8"
      }
    },
    {
      "cell_type": "code",
      "source": [
        "arr1=np.array([[10,1,14,16,18,20],\n",
        "[22,24,26,28,30,32],\n",
        "[34,36,38,40,42,44],\n",
        "[46,48,50,52,54,56],\n",
        "[58,60,62,64,66,68],\n",
        "[70,72,74,76,78,80]])"
      ],
      "metadata": {
        "id": "tAgeF-xcVPpd"
      },
      "execution_count": 6,
      "outputs": []
    },
    {
      "cell_type": "code",
      "source": [
        "arr1"
      ],
      "metadata": {
        "colab": {
          "base_uri": "https://localhost:8080/"
        },
        "id": "oF-PS_kUWA_v",
        "outputId": "5ba4c936-e194-440a-e0ad-5859f2f54d5c"
      },
      "execution_count": 8,
      "outputs": [
        {
          "output_type": "execute_result",
          "data": {
            "text/plain": [
              "array([[10,  1, 14, 16, 18, 20],\n",
              "       [22, 24, 26, 28, 30, 32],\n",
              "       [34, 36, 38, 40, 42, 44],\n",
              "       [46, 48, 50, 52, 54, 56],\n",
              "       [58, 60, 62, 64, 66, 68],\n",
              "       [70, 72, 74, 76, 78, 80]])"
            ]
          },
          "metadata": {},
          "execution_count": 8
        }
      ]
    },
    {
      "cell_type": "code",
      "source": [
        "arr[0]"
      ],
      "metadata": {
        "colab": {
          "base_uri": "https://localhost:8080/"
        },
        "id": "wrd-CABlWIAN",
        "outputId": "f6c3ce21-5dbc-47a1-e927-91a1b645ffba"
      },
      "execution_count": 9,
      "outputs": [
        {
          "output_type": "execute_result",
          "data": {
            "text/plain": [
              "19"
            ]
          },
          "metadata": {},
          "execution_count": 9
        }
      ]
    },
    {
      "cell_type": "markdown",
      "source": [
        "18.Slice a 1D NumPy array to get every other elemennt\n",
        "\n",
        "\n",
        "\n"
      ],
      "metadata": {
        "id": "5LUaCpPdWN4s"
      }
    },
    {
      "cell_type": "code",
      "source": [
        "arr=(20,11,12,21,19,25,23,30,50)"
      ],
      "metadata": {
        "id": "LSX8Ck2KWSxj"
      },
      "execution_count": 10,
      "outputs": []
    },
    {
      "cell_type": "code",
      "source": [
        "arr[:2]"
      ],
      "metadata": {
        "colab": {
          "base_uri": "https://localhost:8080/"
        },
        "id": "qFErd9wfWdiw",
        "outputId": "b0d22f33-fdf8-42aa-9ace-ffa45021382f"
      },
      "execution_count": 11,
      "outputs": [
        {
          "output_type": "execute_result",
          "data": {
            "text/plain": [
              "(20, 11)"
            ]
          },
          "metadata": {},
          "execution_count": 11
        }
      ]
    },
    {
      "cell_type": "code",
      "source": [
        "arr[1:5]"
      ],
      "metadata": {
        "colab": {
          "base_uri": "https://localhost:8080/"
        },
        "id": "FabCqLuxWhXU",
        "outputId": "68d5c707-7a4e-4802-9f57-33f5aa312150"
      },
      "execution_count": 12,
      "outputs": [
        {
          "output_type": "execute_result",
          "data": {
            "text/plain": [
              "(11, 12, 21, 19)"
            ]
          },
          "metadata": {},
          "execution_count": 12
        }
      ]
    },
    {
      "cell_type": "markdown",
      "source": [
        "19).Given a 2D NumPy array, extract a subarray consisting of the central 2x2 elements\n"
      ],
      "metadata": {
        "id": "GAivFyEzWl2r"
      }
    },
    {
      "cell_type": "code",
      "source": [
        "import numpy as np\n",
        "arr4=np.array([[1,2,3,4],\n",
        "  [5,6,7,8],\n",
        "  [9,10,11,12],\n",
        "  [13,14,15,16]])\n",
        "subarray=arr4[1:3,2:4]\n",
        "print(subarray)"
      ],
      "metadata": {
        "colab": {
          "base_uri": "https://localhost:8080/"
        },
        "id": "0a4821nFWxT3",
        "outputId": "8c72f037-26d3-4daf-c6e5-07be93e45bd8"
      },
      "execution_count": 16,
      "outputs": [
        {
          "output_type": "stream",
          "name": "stdout",
          "text": [
            "[[ 7  8]\n",
            " [11 12]]\n"
          ]
        }
      ]
    },
    {
      "cell_type": "markdown",
      "source": [
        "20)Reverse a 1D NumPy array using slicing."
      ],
      "metadata": {
        "id": "K1Om16liXh-M"
      }
    },
    {
      "cell_type": "code",
      "source": [
        "import numpy as np\n",
        "arr=np.array([1,2,3,4,5])"
      ],
      "metadata": {
        "id": "Q0CATjzgXhj0"
      },
      "execution_count": 17,
      "outputs": []
    },
    {
      "cell_type": "code",
      "source": [
        "reversed_array=arr[::-1]\n",
        "print(reversed_array)"
      ],
      "metadata": {
        "colab": {
          "base_uri": "https://localhost:8080/"
        },
        "id": "S-f9gamwWsJJ",
        "outputId": "0701f312-ba7a-44e8-c350-70d8a68cf512"
      },
      "execution_count": 18,
      "outputs": [
        {
          "output_type": "stream",
          "name": "stdout",
          "text": [
            "[5 4 3 2 1]\n"
          ]
        }
      ]
    }
  ]
}