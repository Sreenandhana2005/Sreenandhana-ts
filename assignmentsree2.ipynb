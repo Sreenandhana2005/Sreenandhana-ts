{
  "nbformat": 4,
  "nbformat_minor": 0,
  "metadata": {
    "colab": {
      "provenance": []
    },
    "kernelspec": {
      "name": "python3",
      "display_name": "Python 3"
    },
    "language_info": {
      "name": "python"
    }
  },
  "cells": [
    {
      "cell_type": "markdown",
      "source": [
        "1)"
      ],
      "metadata": {
        "id": "edafu_CPLSyG"
      }
    },
    {
      "cell_type": "code",
      "source": [
        "#input function\n",
        "l=int(input(\"enter the l of rectangle\"))\n",
        "b=int(input(\"enter the b of rectangle\"))\n",
        "a=(l*b)\n",
        "print(a)"
      ],
      "metadata": {
        "colab": {
          "base_uri": "https://localhost:8080/"
        },
        "id": "ER9WOwB3LXBE",
        "outputId": "a662b0c6-f1fb-4fb5-944b-bff386098a72"
      },
      "execution_count": null,
      "outputs": [
        {
          "output_type": "stream",
          "name": "stdout",
          "text": [
            "enter the l of rectangle5\n",
            "enter the b of rectangle6\n",
            "30\n"
          ]
        }
      ]
    },
    {
      "cell_type": "markdown",
      "source": [
        "2)"
      ],
      "metadata": {
        "id": "IwjW7133L_UF"
      }
    },
    {
      "cell_type": "code",
      "source": [
        "#input function\n",
        "n1=int(input(\"enter n1\"))\n",
        "n2=int(input(\"enter n2\"))\n",
        "s=n1+n2\n",
        "q=n1/n2\n",
        "p=n1*n2\n",
        "d=n1-n2\n",
        "print(s)\n",
        "print(q)\n",
        "print(p)\n",
        "print(d)"
      ],
      "metadata": {
        "colab": {
          "base_uri": "https://localhost:8080/"
        },
        "id": "QvTWK79UMCGq",
        "outputId": "814a4124-38eb-45f9-e1a1-d92a505e59e1"
      },
      "execution_count": null,
      "outputs": [
        {
          "output_type": "stream",
          "name": "stdout",
          "text": [
            "enter n1100\n",
            "enter n250\n",
            "150\n",
            "2.0\n",
            "5000\n",
            "50\n"
          ]
        }
      ]
    },
    {
      "cell_type": "markdown",
      "source": [
        "\n",
        "3)"
      ],
      "metadata": {
        "id": "qJy4OkzINL-3"
      }
    },
    {
      "cell_type": "markdown",
      "source": [
        "a)"
      ],
      "metadata": {
        "id": "o64BaSreqkD3"
      }
    },
    {
      "cell_type": "code",
      "source": [
        "F=float(input('enter a number'))\n",
        "C=(F-32)*5/9\n",
        "print(C)"
      ],
      "metadata": {
        "colab": {
          "base_uri": "https://localhost:8080/"
        },
        "id": "K4hjxpz0hqRR",
        "outputId": "4dc911cd-e91a-48e5-b5f5-489fc07b6f4f"
      },
      "execution_count": null,
      "outputs": [
        {
          "output_type": "stream",
          "name": "stdout",
          "text": [
            "enter a number30\n",
            "-1.1111111111111112\n"
          ]
        }
      ]
    },
    {
      "cell_type": "markdown",
      "source": [
        "b)\n"
      ],
      "metadata": {
        "id": "MnvAbjsQigA8"
      }
    },
    {
      "cell_type": "code",
      "source": [
        "C=float(input('enter a number'))\n",
        "f=(C*9/5)+32\n",
        "print(f)"
      ],
      "metadata": {
        "colab": {
          "base_uri": "https://localhost:8080/"
        },
        "id": "fEDoJ-Idijoj",
        "outputId": "e10245b4-dcc1-4825-db03-2ccb4d346a6f"
      },
      "execution_count": null,
      "outputs": [
        {
          "output_type": "stream",
          "name": "stdout",
          "text": [
            "enter a number30\n",
            "86.0\n"
          ]
        }
      ]
    },
    {
      "cell_type": "markdown",
      "source": [
        "4)"
      ],
      "metadata": {
        "id": "-yP0mKb5NSDt"
      }
    },
    {
      "cell_type": "code",
      "source": [
        "\n",
        "\n",
        "\n",
        "numb=int(input(\"enter a number\"))\n",
        "if numb>0:\n",
        "   print(\"numb is positive\")\n",
        "elif numb<0:\n",
        "   print(\"numb is negative\")\n",
        "else:\n",
        "   print(\"invalid\")"
      ],
      "metadata": {
        "colab": {
          "base_uri": "https://localhost:8080/"
        },
        "id": "LygTsbjrNTdu",
        "outputId": "5eb87da9-ad65-4f27-a917-2e11178e5839"
      },
      "execution_count": null,
      "outputs": [
        {
          "output_type": "stream",
          "name": "stdout",
          "text": [
            "enter a number20\n",
            "numb is positive\n"
          ]
        }
      ]
    },
    {
      "cell_type": "markdown",
      "source": [
        "5)"
      ],
      "metadata": {
        "id": "iOFR9LgDOgBK"
      }
    },
    {
      "cell_type": "code",
      "source": [
        "y=int(input(\"enter the year\"))\n",
        "if y%4==0:\n",
        "   print(\"it is a leap year\")\n",
        "elif y%4!=0:\n",
        "   print(\"it is not a leap year\")\n",
        "elif y%400==0:\n",
        "   print('it is a leap year')\n",
        "elif y%400!=0:\n",
        "   print('it is not a leap year')\n",
        "\n",
        "else:\n",
        "   print(\"False\")"
      ],
      "metadata": {
        "id": "ol015VPyOhgx",
        "colab": {
          "base_uri": "https://localhost:8080/"
        },
        "outputId": "15061bae-69d0-45d5-cbb2-376884074f44"
      },
      "execution_count": null,
      "outputs": [
        {
          "output_type": "stream",
          "name": "stdout",
          "text": [
            "enter the year2005\n",
            "it is not a leap year\n"
          ]
        }
      ]
    },
    {
      "cell_type": "markdown",
      "source": [
        "6)"
      ],
      "metadata": {
        "id": "YrRmHVzgOosY"
      }
    },
    {
      "cell_type": "code",
      "source": [
        "mark=int(input(\"enter mark\"))\n",
        "if mark>89:\n",
        "  print(\"A\")\n",
        "elif mark>79:\n",
        "  print (\"B\")\n",
        "elif mark>69:\n",
        "  print(\"C\")\n",
        "elif mark>59:\n",
        "  print(\"D\")\n",
        "elif mark<59:\n",
        "  print(\"F\")\n",
        "else:\n",
        "  print(\"invalid\")"
      ],
      "metadata": {
        "colab": {
          "base_uri": "https://localhost:8080/"
        },
        "id": "h_Z7Iw3HOp_s",
        "outputId": "c67ad38e-1b63-4133-83f3-da22c284619d"
      },
      "execution_count": null,
      "outputs": [
        {
          "output_type": "stream",
          "name": "stdout",
          "text": [
            "enter mark50\n",
            "F\n"
          ]
        }
      ]
    },
    {
      "cell_type": "markdown",
      "source": [
        "7)"
      ],
      "metadata": {
        "id": "I5UzAGeCPX0r"
      }
    },
    {
      "cell_type": "code",
      "source": [
        "for num in range(10,0,-1):\n",
        "    print(num)"
      ],
      "metadata": {
        "id": "ksRZia3VPaA4",
        "colab": {
          "base_uri": "https://localhost:8080/"
        },
        "outputId": "4407b899-b611-4408-8114-a473d5a680c6"
      },
      "execution_count": null,
      "outputs": [
        {
          "output_type": "stream",
          "name": "stdout",
          "text": [
            "10\n",
            "9\n",
            "8\n",
            "7\n",
            "6\n",
            "5\n",
            "4\n",
            "3\n",
            "2\n",
            "1\n"
          ]
        }
      ]
    },
    {
      "cell_type": "markdown",
      "source": [
        "8)"
      ],
      "metadata": {
        "id": "WgKQ5x3htVOL"
      }
    },
    {
      "cell_type": "code",
      "source": [
        "for i in range(2,22,2):\n",
        "  print(i)"
      ],
      "metadata": {
        "id": "THjIhM-itYZD",
        "colab": {
          "base_uri": "https://localhost:8080/"
        },
        "outputId": "971ef7df-8b91-4d18-b1cf-9e3c0d8e88cf"
      },
      "execution_count": null,
      "outputs": [
        {
          "output_type": "stream",
          "name": "stdout",
          "text": [
            "2\n",
            "4\n",
            "6\n",
            "8\n",
            "10\n",
            "12\n",
            "14\n",
            "16\n",
            "18\n",
            "20\n"
          ]
        }
      ]
    },
    {
      "cell_type": "markdown",
      "source": [
        "9)"
      ],
      "metadata": {
        "id": "vbcJRSq8uf8R"
      }
    },
    {
      "cell_type": "code",
      "source": [
        "n = int(input(\"enter the number:\"))\n",
        "for i in range(1,11):\n",
        "    print(n,\"*\", i, \"=\",n*i)"
      ],
      "metadata": {
        "id": "OIjTzLjhuh6E",
        "colab": {
          "base_uri": "https://localhost:8080/"
        },
        "outputId": "e4ee6fc0-a079-4614-e4de-be4f8958d17a"
      },
      "execution_count": null,
      "outputs": [
        {
          "output_type": "stream",
          "name": "stdout",
          "text": [
            "enter the number:5\n",
            "5 * 1 = 5\n",
            "5 * 2 = 10\n",
            "5 * 3 = 15\n",
            "5 * 4 = 20\n",
            "5 * 5 = 25\n",
            "5 * 6 = 30\n",
            "5 * 7 = 35\n",
            "5 * 8 = 40\n",
            "5 * 9 = 45\n",
            "5 * 10 = 50\n"
          ]
        }
      ]
    }
  ]
}